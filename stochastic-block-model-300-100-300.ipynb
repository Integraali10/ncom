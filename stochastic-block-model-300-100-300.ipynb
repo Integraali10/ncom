{
 "cells": [
  {
   "cell_type": "code",
   "execution_count": 1,
   "metadata": {},
   "outputs": [],
   "source": [
    "%load_ext autoreload\n",
    "%autoreload 2"
   ]
  },
  {
   "cell_type": "code",
   "execution_count": 21,
   "metadata": {},
   "outputs": [],
   "source": [
    "import networkx as nx\n",
    "from ipywidgets import interact\n",
    "import seaborn as sns\n",
    "\n",
    "from matplotlib import rc\n",
    "from matplotlib import rc\n",
    "rc('font',**{'family':'serif', 'size': 20})\n",
    "rc('text', usetex=True)\n",
    "rc('text.latex',preamble='\\\\usepackage[T2A,T1]{fontenc}')\n",
    "rc('text.latex',preamble='\\\\usepackage[utf8]{inputenc}')\n",
    "rc('text.latex',preamble='\\\\usepackage[english,russian]{babel}')\n",
    "rc('legend',fontsize=20) # using a size in points\n",
    "\n",
    "import matplotlib.pyplot as plt\n",
    "import pandas as pd\n",
    "%matplotlib inline\n",
    "\n",
    "from src.utils import *\n",
    "\n",
    "seed = 67\n",
    "\n",
    "n_steps = 10000"
   ]
  },
  {
   "cell_type": "code",
   "execution_count": 9,
   "metadata": {},
   "outputs": [],
   "source": [
    "community_sizes = [500, 500, 500]\n",
    "# Edge probabilities between each community\n",
    "P = [[4e-3, 4e-4, 4e-4],\n",
    "     [4e-4, 4e-3, 4e-4],\n",
    "     [4e-4, 4e-4, 4e-3]]"
   ]
  },
  {
   "cell_type": "code",
   "execution_count": 13,
   "metadata": {
    "scrolled": true
   },
   "outputs": [
    {
     "name": "stderr",
     "output_type": "stream",
     "text": [
      "\n",
      "Probas:   0%|          | 0/101 [00:00<?, ?it/s]\u001b[A\n",
      "Probas:   5%|▍         | 5/101 [00:00<00:02, 43.49it/s]\u001b[A\n",
      "Probas:  10%|▉         | 10/101 [00:00<00:02, 43.97it/s]\u001b[A"
     ]
    },
    {
     "name": "stdout",
     "output_type": "stream",
     "text": [
      "0.0 0.0 0.0 0.0 0.41 0.04 1.0\n",
      "2.0 0.0 0.0 0.0 0.41 0.04 1.0\n",
      "3.0 0.0 0.0 0.01 0.41 0.04 0.99\n",
      "5.0 0.0 0.0 0.0 0.41 0.04 1.0\n",
      "5.0 0.0 0.0 0.01 0.41 0.04 0.99\n",
      "6.0 0.0 0.0 0.02 0.41 0.04 0.98\n",
      "6.0 0.0 0.0 0.03 0.41 0.04 0.97\n",
      "8.0 0.0 0.0 0.04 0.35 0.04 0.96\n",
      "7.0 0.0 0.0 0.04 0.41 0.02 0.96\n",
      "7.0 0.01 0.0 0.05 0.41 0.03 0.95\n",
      "6.0 0.0 0.0 0.04 0.38 0.04 0.96\n",
      "6.0 0.0 0.0 0.05 0.4 0.04 0.95\n",
      "8.0 0.0 0.0 0.05 0.4 0.04 0.95\n",
      "9.0 0.01 0.0 0.06 0.38 "
     ]
    },
    {
     "name": "stderr",
     "output_type": "stream",
     "text": [
      "\n",
      "Probas:  14%|█▍        | 14/101 [00:00<00:02, 41.96it/s]\u001b[A\n",
      "Probas:  18%|█▊        | 18/101 [00:00<00:02, 38.78it/s]\u001b[A"
     ]
    },
    {
     "name": "stdout",
     "output_type": "stream",
     "text": [
      "0.04 0.94\n",
      "9.0 0.0 0.0 0.06 0.37 0.04 0.94\n",
      "11.0 0.01 0.0 0.07 0.37 0.04 0.93\n",
      "9.0 0.01 0.0 0.06 0.36 0.04 0.94\n",
      "8.0 0.0 0.0 0.08 0.37 0.02 0.92\n",
      "9.0 0.01 0.0 0.08 0.39 0.03 0.92\n",
      "9.0 0.01 0.01 0.08 0.36 0.03 0.92\n",
      "11.0 0.01 0.0 0.09 0.38 0.02 "
     ]
    },
    {
     "name": "stderr",
     "output_type": "stream",
     "text": [
      "\n",
      "Probas:  22%|██▏       | 22/101 [00:00<00:02, 37.54it/s]\u001b[A\n",
      "Probas:  26%|██▌       | 26/101 [00:00<00:01, 37.70it/s]\u001b[A\n"
     ]
    },
    {
     "name": "stdout",
     "output_type": "stream",
     "text": [
      "0.91\n",
      "11.0 0.01 0.0 0.09 0.36 0.04 0.91\n",
      "11.0 0.0 0.0 0.1 0.31 0.04 0.9\n",
      "12.0 0.01 0.01 0.09 0.31 0.04 0.91\n",
      "10.0 0.01 0.01 0.11 0.31 0.05 0.89\n",
      "9.0 0.01 0.01 0.14 0.34 0.03 0.86\n",
      "12.0 0.01 0.0 0.11 0.38 0.03 0.89\n",
      "11.0 0.01 0.0 0.13 0.36 0.03 0.87\n",
      "12.0 0.01 0.01 0.13 0.26 0.1 0.87\n",
      "12.0 0.01 0.01 0.13 0.29 0.03 0.87\n"
     ]
    },
    {
     "name": "stderr",
     "output_type": "stream",
     "text": [
      "Probas:  30%|██▉       | 30/101 [00:00<00:01, 37.34it/s]\u001b[A\n",
      "Probas:  34%|███▎      | 34/101 [00:00<00:01, 34.96it/s]\u001b[A\n",
      "Probas:  38%|███▊      | 38/101 [00:01<00:01, 33.70it/s]"
     ]
    },
    {
     "name": "stdout",
     "output_type": "stream",
     "text": [
      "11.0 0.02 0.01 0.15 0.32 0.02 0.85\n",
      "15.0 0.01 0.01 0.15 0.34 0.03 0.85\n",
      "14.0 0.01 0.01 0.15 0.33 0.03 0.85\n",
      "12.0 0.01 0.01 0.19 0.28 0.03 0.81\n",
      "22.0 0.01 0.0 0.17 0.34 0.02 0.83\n",
      "12.0 0.01 0.01 0.2 0.27 0.06 0.8\n",
      "17.0 0.01 0.01 0.18 0.28 0.06 0.82\n",
      "13.0 0.01 0.01 0.19 0.32 0.02 0.81\n"
     ]
    },
    {
     "name": "stderr",
     "output_type": "stream",
     "text": [
      "\u001b[A\n",
      "Probas:  42%|████▏     | 42/101 [00:01<00:01, 31.87it/s]\u001b[A\n",
      "Probas:  46%|████▌     | 46/101 [00:01<00:01, 29.98it/s]\u001b[A\n"
     ]
    },
    {
     "name": "stdout",
     "output_type": "stream",
     "text": [
      "18.0 0.02 0.01 0.19 0.24 0.04 0.81\n",
      "20.0 0.03 0.02 0.22 0.24 0.02 0.78\n",
      "19.0 0.03 0.01 0.23 0.19 0.03 0.77\n",
      "17.0 0.01 0.01 0.22 0.23 0.07 0.78\n",
      "20.0 0.04 0.01 0.21 0.27 0.03 0.79\n",
      "17.0 0.02 0.01 0.24 0.25 0.05 0.76\n",
      "23.0 0.02 0.01 0.24 0.25 0.04 0.76\n",
      "24.0 0.02 0.01 0.26 0.22 0.04 0.74\n",
      "23.0 0.02 0.02 0.24 0.25 0.02 0.76\n",
      "21.0 0.01 0.01 0.26 0.24 0.02 0.74\n",
      "38.0 0.15 0.03 0.67 0.06 0.01 0.33\n"
     ]
    },
    {
     "name": "stderr",
     "output_type": "stream",
     "text": [
      "Probas:  49%|████▊     | 49/101 [00:01<00:01, 27.07it/s]\u001b[A\n",
      "Probas:  51%|█████▏    | 52/101 [00:01<00:01, 25.20it/s]\u001b[A\n",
      "Probas:  54%|█████▍    | 55/101 [00:01<00:01, 23.60it/s]\u001b[A\n"
     ]
    },
    {
     "name": "stdout",
     "output_type": "stream",
     "text": [
      "30.0 0.19 0.03 0.69 0.02 0.02 0.31\n",
      "22.0 0.2 0.03 0.7 0.06 0.02 0.3\n",
      "26.0 0.26 0.03 0.74 0.02 0.01 0.26\n",
      "24.0 0.22 0.04 0.73 0.03 0.02 0.27\n",
      "18.0 0.29 0.02 0.74 0.02 0.01 0.26\n",
      "21.0 0.31 0.02 0.74 0.01 0.01 0.26\n",
      "23.0 0.18 0.03 0.74 0.03 0.01 0.26\n",
      "17.0 0.24 0.02 0.74 0.02 0.01 0.26\n",
      "20.0 0.18 0.04 0.75 0.01 0.01 0.25\n"
     ]
    },
    {
     "name": "stderr",
     "output_type": "stream",
     "text": [
      "Probas:  57%|█████▋    | 58/101 [00:01<00:01, 24.14it/s]\u001b[A\n",
      "Probas:  60%|██████    | 61/101 [00:01<00:01, 24.75it/s]\u001b[A\n",
      "Probas:  63%|██████▎   | 64/101 [00:02<00:01, 26.01it/s]\u001b[A"
     ]
    },
    {
     "name": "stdout",
     "output_type": "stream",
     "text": [
      "14.0 0.29 0.02 0.78 0.01 0.01 0.22\n",
      "18.0 0.29 0.03 0.79 0.01 0.01 0.21\n",
      "23.0 0.24 0.03 0.76 0.01 0.01 0.24\n",
      "13.0 0.19 0.03 0.74 0.02 0.01 0.26\n",
      "13.0 0.34 0.02 0.82 0.01 0.01 0.18\n",
      "17.0 0.25 0.06 0.82 0.01 0.01 0.18\n",
      "12.0 0.27 0.03 0.79 0.01 0.01 0.21\n",
      "14.0 0.28 0.04 0.84 0.01 0.0 0.16\n",
      "14.0 0.32 0.02 0.84 0.01 0.01 0.16\n"
     ]
    },
    {
     "name": "stderr",
     "output_type": "stream",
     "text": [
      "\n",
      "Probas:  67%|██████▋   | 68/101 [00:02<00:01, 26.44it/s]\u001b[A\n",
      "Probas:  70%|███████   | 71/101 [00:02<00:01, 26.82it/s]\u001b[A\n"
     ]
    },
    {
     "name": "stdout",
     "output_type": "stream",
     "text": [
      "13.0 0.34 0.04 0.83 0.01 0.01 0.17\n",
      "13.0 0.36 0.02 0.83 0.01 0.01 0.17\n",
      "11.0 0.29 0.05 0.83 0.01 0.01 0.17\n",
      "12.0 0.2 0.05 0.85 0.01 0.01 0.15\n",
      "11.0 0.31 0.02 0.83 0.02 0.01 0.17\n",
      "9.0 0.37 0.03 0.85 0.01 0.01 0.15\n",
      "15.0 0.33 0.04 0.89 0.0 0.0 0.11\n"
     ]
    },
    {
     "name": "stderr",
     "output_type": "stream",
     "text": [
      "Probas:  73%|███████▎  | 74/101 [00:02<00:00, 27.18it/s]\u001b[A\n",
      "Probas:  76%|███████▌  | 77/101 [00:02<00:00, 26.53it/s]\u001b[A\n",
      "Probas:  80%|████████  | 81/101 [00:02<00:00, 28.02it/s]\u001b[A"
     ]
    },
    {
     "name": "stdout",
     "output_type": "stream",
     "text": [
      "11.0 0.36 0.04 0.87 0.01 0.01 0.13\n",
      "11.0 0.33 0.03 0.89 0.01 0.0 0.11\n",
      "12.0 0.29 0.08 0.88 0.01 0.0 0.12\n",
      "9.0 0.29 0.03 0.89 0.01 0.01 0.11\n",
      "9.0 0.39 0.03 0.9 0.01 0.0 0.1\n",
      "12.0 0.38 0.03 0.9 0.0 0.0 0.1\n",
      "11.0 0.36 0.04 0.91 0.01 0.01 0.09\n",
      "12.0 0.37 0.03 0.93 0.0 0.0 0.07\n",
      "9.0 0.36 0.03 0.92 0.01 0.0 0.08\n",
      "8.0 0.4 0.04 0.92 0.0 0.0 0.08\n"
     ]
    },
    {
     "name": "stderr",
     "output_type": "stream",
     "text": [
      "\n",
      "Probas:  84%|████████▍ | 85/101 [00:02<00:00, 29.96it/s]\u001b[A\n",
      "Probas:  88%|████████▊ | 89/101 [00:02<00:00, 31.90it/s]\u001b[A\n"
     ]
    },
    {
     "name": "stdout",
     "output_type": "stream",
     "text": [
      "8.0 0.4 0.03 0.93 0.0 0.0 0.07\n",
      "8.0 0.31 0.03 0.93 0.0 0.0 0.07\n",
      "11.0 0.4 0.04 0.96 0.0 0.0 0.04\n",
      "7.0 0.39 0.04 0.94 0.01 0.0 0.06\n",
      "6.0 0.38 0.04 0.96 0.0 0.0 0.04\n",
      "8.0 0.35 0.04 0.96 0.0 0.0 0.04\n",
      "9.0 0.41 0.03 0.96 0.0 0.0 0.04\n",
      "7.0 0.4 0.04 0.97 0.0 0.0 0.03\n",
      "5.0 0.4 0.04 0.96 0.0 0.0 0.04\n"
     ]
    },
    {
     "name": "stderr",
     "output_type": "stream",
     "text": [
      "Probas:  92%|█████████▏| 93/101 [00:03<00:00, 33.73it/s]\u001b[A\n",
      "Probas: 100%|██████████| 101/101 [00:03<00:00, 31.40it/s][A"
     ]
    },
    {
     "name": "stdout",
     "output_type": "stream",
     "text": [
      "7.0 0.41 0.04 0.97 0.0 0.0 0.03\n",
      "7.0 0.41 0.04 0.97 0.0 0.0 0.03\n",
      "9.0 0.41 0.04 0.98 0.0 0.0 0.02\n",
      "4.0 0.41 0.04 0.98 0.0 0.0 0.02\n",
      "4.0 0.41 0.04 0.98 0.0 0.0 0.02\n",
      "6.0 0.41 0.04 0.99 0.0 0.0 0.01\n",
      "7.0 0.41 0.04 1.0 0.0 0.0 0.0\n",
      "0.0 0.41 0.04 1.0 0.0 0.0 0.0\n"
     ]
    },
    {
     "name": "stderr",
     "output_type": "stream",
     "text": [
      "\n"
     ]
    }
   ],
   "source": [
    "run_one_graph_and_save(nx.stochastic_block_model, {'sizes': sizes, \n",
    "                                                     'p': P, \n",
    "                                                     'seed': seed, \n",
    "                                                     'directed': False,\n",
    "                                                     'selfloops': False,\n",
    "                                                     'sparse': True,}, n_steps)"
   ]
  },
  {
   "cell_type": "code",
   "execution_count": null,
   "metadata": {},
   "outputs": [],
   "source": [
    "# P = [[0.25, 0.005, 0.002], \n",
    "#      [0.005, 0.35, 0.007], \n",
    "#      [0.002, 0.007, 0.4]]\n",
    "\n",
    "# kwargs = {'sizes': [150, 50, 150], 'p': P,'seed': seed,'directed': False,'selfloops': False,'sparse': True,}\n",
    "# G = nx.stochastic_block_model(**kwargs)\n",
    "\n",
    "# pos = nx.nx_agraph.graphviz_layout(G, prog='sfdp')\n",
    "\n",
    "# fig, ax = plt.subplots(constrained_layout=True, figsize=(30,12))\n",
    "# nx.draw(G, pos=pos)"
   ]
  },
  {
   "cell_type": "code",
   "execution_count": 14,
   "metadata": {},
   "outputs": [
    {
     "data": {
      "text/html": [
       "<div>\n",
       "<style scoped>\n",
       "    .dataframe tbody tr th:only-of-type {\n",
       "        vertical-align: middle;\n",
       "    }\n",
       "\n",
       "    .dataframe tbody tr th {\n",
       "        vertical-align: top;\n",
       "    }\n",
       "\n",
       "    .dataframe thead th {\n",
       "        text-align: right;\n",
       "    }\n",
       "</style>\n",
       "<table border=\"1\" class=\"dataframe\">\n",
       "  <thead>\n",
       "    <tr style=\"text-align: right;\">\n",
       "      <th></th>\n",
       "      <th>p</th>\n",
       "      <th>n_steps</th>\n",
       "      <th>max_cc_pos</th>\n",
       "      <th>second_max_cc_pos</th>\n",
       "      <th>final_pos</th>\n",
       "      <th>max_cc_neg</th>\n",
       "      <th>second_max_cc_neg</th>\n",
       "      <th>final_neg</th>\n",
       "      <th>pos_nodes</th>\n",
       "    </tr>\n",
       "  </thead>\n",
       "  <tbody>\n",
       "    <tr>\n",
       "      <th>0</th>\n",
       "      <td>0.00</td>\n",
       "      <td>0.0</td>\n",
       "      <td>0.00</td>\n",
       "      <td>0.00</td>\n",
       "      <td>0.00</td>\n",
       "      <td>0.41</td>\n",
       "      <td>0.04</td>\n",
       "      <td>1.00</td>\n",
       "      <td>[set()]</td>\n",
       "    </tr>\n",
       "    <tr>\n",
       "      <th>1</th>\n",
       "      <td>0.01</td>\n",
       "      <td>2.0</td>\n",
       "      <td>0.00</td>\n",
       "      <td>0.00</td>\n",
       "      <td>0.00</td>\n",
       "      <td>0.41</td>\n",
       "      <td>0.04</td>\n",
       "      <td>1.00</td>\n",
       "      <td>[{266, 108, 285}]</td>\n",
       "    </tr>\n",
       "    <tr>\n",
       "      <th>2</th>\n",
       "      <td>0.02</td>\n",
       "      <td>3.0</td>\n",
       "      <td>0.00</td>\n",
       "      <td>0.00</td>\n",
       "      <td>0.01</td>\n",
       "      <td>0.41</td>\n",
       "      <td>0.04</td>\n",
       "      <td>0.99</td>\n",
       "      <td>[{74, 331, 143, 181, 187}]</td>\n",
       "    </tr>\n",
       "    <tr>\n",
       "      <th>3</th>\n",
       "      <td>0.03</td>\n",
       "      <td>5.0</td>\n",
       "      <td>0.00</td>\n",
       "      <td>0.00</td>\n",
       "      <td>0.00</td>\n",
       "      <td>0.41</td>\n",
       "      <td>0.04</td>\n",
       "      <td>1.00</td>\n",
       "      <td>[{368, 209, 377}]</td>\n",
       "    </tr>\n",
       "    <tr>\n",
       "      <th>4</th>\n",
       "      <td>0.04</td>\n",
       "      <td>5.0</td>\n",
       "      <td>0.00</td>\n",
       "      <td>0.00</td>\n",
       "      <td>0.01</td>\n",
       "      <td>0.41</td>\n",
       "      <td>0.04</td>\n",
       "      <td>0.99</td>\n",
       "      <td>[{44, 238, 273, 339, 52, 309, 314, 350}]</td>\n",
       "    </tr>\n",
       "    <tr>\n",
       "      <th>...</th>\n",
       "      <td>...</td>\n",
       "      <td>...</td>\n",
       "      <td>...</td>\n",
       "      <td>...</td>\n",
       "      <td>...</td>\n",
       "      <td>...</td>\n",
       "      <td>...</td>\n",
       "      <td>...</td>\n",
       "      <td>...</td>\n",
       "    </tr>\n",
       "    <tr>\n",
       "      <th>96</th>\n",
       "      <td>0.96</td>\n",
       "      <td>4.0</td>\n",
       "      <td>0.41</td>\n",
       "      <td>0.04</td>\n",
       "      <td>0.98</td>\n",
       "      <td>0.00</td>\n",
       "      <td>0.00</td>\n",
       "      <td>0.02</td>\n",
       "      <td>[{0, 1, 2, 3, 4, 5, 6, 7, 8, 9, 10, 11, 12, 13...</td>\n",
       "    </tr>\n",
       "    <tr>\n",
       "      <th>97</th>\n",
       "      <td>0.97</td>\n",
       "      <td>4.0</td>\n",
       "      <td>0.41</td>\n",
       "      <td>0.04</td>\n",
       "      <td>0.98</td>\n",
       "      <td>0.00</td>\n",
       "      <td>0.00</td>\n",
       "      <td>0.02</td>\n",
       "      <td>[{0, 1, 2, 3, 4, 5, 6, 7, 9, 10, 11, 12, 13, 1...</td>\n",
       "    </tr>\n",
       "    <tr>\n",
       "      <th>98</th>\n",
       "      <td>0.98</td>\n",
       "      <td>6.0</td>\n",
       "      <td>0.41</td>\n",
       "      <td>0.04</td>\n",
       "      <td>0.99</td>\n",
       "      <td>0.00</td>\n",
       "      <td>0.00</td>\n",
       "      <td>0.01</td>\n",
       "      <td>[{0, 1, 2, 3, 4, 5, 6, 7, 8, 9, 10, 11, 12, 13...</td>\n",
       "    </tr>\n",
       "    <tr>\n",
       "      <th>99</th>\n",
       "      <td>0.99</td>\n",
       "      <td>7.0</td>\n",
       "      <td>0.41</td>\n",
       "      <td>0.04</td>\n",
       "      <td>1.00</td>\n",
       "      <td>0.00</td>\n",
       "      <td>0.00</td>\n",
       "      <td>0.00</td>\n",
       "      <td>[{0, 1, 2, 3, 4, 5, 6, 7, 8, 9, 10, 11, 12, 13...</td>\n",
       "    </tr>\n",
       "    <tr>\n",
       "      <th>100</th>\n",
       "      <td>1.00</td>\n",
       "      <td>0.0</td>\n",
       "      <td>0.41</td>\n",
       "      <td>0.04</td>\n",
       "      <td>1.00</td>\n",
       "      <td>0.00</td>\n",
       "      <td>0.00</td>\n",
       "      <td>0.00</td>\n",
       "      <td>[{0, 1, 2, 3, 4, 5, 6, 7, 8, 9, 10, 11, 12, 13...</td>\n",
       "    </tr>\n",
       "  </tbody>\n",
       "</table>\n",
       "<p>101 rows × 9 columns</p>\n",
       "</div>"
      ],
      "text/plain": [
       "        p  n_steps  max_cc_pos  second_max_cc_pos  final_pos  max_cc_neg  \\\n",
       "0    0.00      0.0        0.00               0.00       0.00        0.41   \n",
       "1    0.01      2.0        0.00               0.00       0.00        0.41   \n",
       "2    0.02      3.0        0.00               0.00       0.01        0.41   \n",
       "3    0.03      5.0        0.00               0.00       0.00        0.41   \n",
       "4    0.04      5.0        0.00               0.00       0.01        0.41   \n",
       "..    ...      ...         ...                ...        ...         ...   \n",
       "96   0.96      4.0        0.41               0.04       0.98        0.00   \n",
       "97   0.97      4.0        0.41               0.04       0.98        0.00   \n",
       "98   0.98      6.0        0.41               0.04       0.99        0.00   \n",
       "99   0.99      7.0        0.41               0.04       1.00        0.00   \n",
       "100  1.00      0.0        0.41               0.04       1.00        0.00   \n",
       "\n",
       "     second_max_cc_neg  final_neg  \\\n",
       "0                 0.04       1.00   \n",
       "1                 0.04       1.00   \n",
       "2                 0.04       0.99   \n",
       "3                 0.04       1.00   \n",
       "4                 0.04       0.99   \n",
       "..                 ...        ...   \n",
       "96                0.00       0.02   \n",
       "97                0.00       0.02   \n",
       "98                0.00       0.01   \n",
       "99                0.00       0.00   \n",
       "100               0.00       0.00   \n",
       "\n",
       "                                             pos_nodes  \n",
       "0                                              [set()]  \n",
       "1                                    [{266, 108, 285}]  \n",
       "2                           [{74, 331, 143, 181, 187}]  \n",
       "3                                    [{368, 209, 377}]  \n",
       "4             [{44, 238, 273, 339, 52, 309, 314, 350}]  \n",
       "..                                                 ...  \n",
       "96   [{0, 1, 2, 3, 4, 5, 6, 7, 8, 9, 10, 11, 12, 13...  \n",
       "97   [{0, 1, 2, 3, 4, 5, 6, 7, 9, 10, 11, 12, 13, 1...  \n",
       "98   [{0, 1, 2, 3, 4, 5, 6, 7, 8, 9, 10, 11, 12, 13...  \n",
       "99   [{0, 1, 2, 3, 4, 5, 6, 7, 8, 9, 10, 11, 12, 13...  \n",
       "100  [{0, 1, 2, 3, 4, 5, 6, 7, 8, 9, 10, 11, 12, 13...  \n",
       "\n",
       "[101 rows x 9 columns]"
      ]
     },
     "execution_count": 14,
     "metadata": {},
     "output_type": "execute_result"
    }
   ],
   "source": [
    "df = pd.read_csv('./experiments/stochastic_block_model-sizes_[300, 100, 300]-p_[[0.004, 0.0004, 0.0004], [0.0004, 0.004, 0.0004], [0.0004, 0.0004, 0.004]]-seed_67-directed_False-selfloops_False-sparse_True.csv', sep='\\t', error_bad_lines=False)\n",
    "df"
   ]
  },
  {
   "cell_type": "code",
   "execution_count": 15,
   "metadata": {},
   "outputs": [],
   "source": [
    "def downscale(x):\n",
    "    return x/100\n",
    "def upscale(x):\n",
    "    return x*100"
   ]
  },
  {
   "cell_type": "code",
   "execution_count": 28,
   "metadata": {},
   "outputs": [
    {
     "data": {
      "image/png": "[encoded data removed]",
      "text/plain": [
       "<Figure size 1080x432 with 1 Axes>"
      ]
     },
     "metadata": {
      "needs_background": "light"
     },
     "output_type": "display_data"
    }
   ],
   "source": [
    "fig, ax = plt.subplots(constrained_layout=True, figsize=(15,6))\n",
    "secax = ax.secondary_yaxis('right', functions=(downscale, upscale))\n",
    "secax.set_ylabel('')\n",
    "\n",
    "x = df['p']\n",
    "y1 = df['max_cc_pos']\n",
    "y2 = df['second_max_cc_pos']*100\n",
    "y3 = df['final_pos']\n",
    "max_cc_pos, = plt.plot(x, y1, linestyle=(0, (1, 10)), marker='.', label='Размер первой связной компоненты $\\sigma_+$')\n",
    "second_max_cc_pos, = plt.plot(x, y2, linestyle=\"solid\", label='Размер второй связной компоненты $\\sigma_+$')\n",
    "final_pos, = plt.plot(x, y3, linestyle=\"dashed\", label='Число вершин с мнением $\\sigma_+$')\n",
    "plt.xticks(np.arange(0, 1.05, 0.1))\n",
    "plt.xlabel('p')\n",
    "plt.ylabel('Доля вершин')\n",
    "plt.legend([max_cc_pos, second_max_cc_pos, final_pos], \n",
    "           ['Размер первой связной компоненты $\\sigma_+$', \n",
    "            'Размер второй связной компоненты $\\sigma_+$', \n",
    "            'Число вершин с мнением $\\sigma_+$'], \n",
    "          loc='upper right')\n",
    "ax.legend(bbox_to_anchor=(1.2, 1.05))\n",
    "\n",
    "for item in ([ax.title, ax.xaxis.label, ax.yaxis.label, secax.yaxis.label] +\n",
    "             ax.get_xticklabels() + ax.get_yticklabels() + secax.get_yticklabels()):\n",
    "    item.set_fontsize(20)\n",
    "\n",
    "#сохранение-демонстрация\n",
    "plt.savefig('./viz/stochastic_block_model_3-blocks.pdf')\n",
    "\n",
    "plt.show()"
   ]
  },
  {
   "cell_type": "code",
   "execution_count": 30,
   "metadata": {},
   "outputs": [
    {
     "data": {
      "image/png": "[encoded data removed]",
      "text/plain": [
       "<Figure size 1080x432 with 1 Axes>"
      ]
     },
     "metadata": {
      "needs_background": "light"
     },
     "output_type": "display_data"
    }
   ],
   "source": [
    "fig, ax = plt.subplots(constrained_layout=True, figsize=(15,6))\n",
    "# secax = ax.secondary_yaxis('right', functions=(downscale, upscale))\n",
    "# secax.set_ylabel('')\n",
    "\n",
    "x = df['p']\n",
    "y1 = df['max_cc_pos']\n",
    "y2 = df['max_cc_neg']\n",
    "y3 = df['final_pos']\n",
    "max_cc_pos, = plt.plot(x, y1, linestyle=(0, (1, 10)), marker='.', label='Размер макс. связной компоненты $\\sigma_+$')\n",
    "second_max_cc_pos, = plt.plot(x, y2, linestyle=\"solid\", label='Размер макс. связной компоненты $\\sigma_{-}$')\n",
    "final_pos, = plt.plot(x, y3, linestyle=\"dashed\", label='Число вершин с мнением $\\sigma_+$')\n",
    "plt.xticks(np.arange(0, 1.05, 0.1))\n",
    "plt.xlabel('p')\n",
    "plt.ylabel('Доля вершин')\n",
    "plt.legend([max_cc_pos, second_max_cc_pos, final_pos], \n",
    "           ['Размер макс. связной компоненты $\\sigma_+$', \n",
    "            'Размер макс. связной компоненты $\\sigma_{-}$', \n",
    "            'Число вершин с мнением $\\sigma_+$'], \n",
    "          loc='upper right')\n",
    "ax.legend(bbox_to_anchor=(1.2, 1.05))\n",
    "\n",
    "plt.savefig('./viz/stochastic_block_model_3-blocks_negative_cluster.pdf')\n",
    "\n",
    "plt.show()"
   ]
  },
  {
   "cell_type": "code",
   "execution_count": 31,
   "metadata": {},
   "outputs": [
    {
     "data": {
      "image/png": "[encoded data removed]",
      "text/plain": [
       "<Figure size 432x288 with 1 Axes>"
      ]
     },
     "metadata": {
      "needs_background": "light"
     },
     "output_type": "display_data"
    }
   ],
   "source": [
    "x = df['p']\n",
    "y = df['n_steps']\n",
    "plt.plot(x, y)\n",
    "plt.xlabel('p')\n",
    "plt.ylabel('Число итераций до прихода к равновесию')\n",
    "\n",
    "plt.savefig('./viz/stochastic_block_model_3-blocks_timesteps.pdf')\n",
    "\n",
    "plt.show()"
   ]
  },
  {
   "cell_type": "code",
   "execution_count": null,
   "metadata": {},
   "outputs": [],
   "source": []
  }
 ],
 "metadata": {
  "kernelspec": {
   "display_name": "networks",
   "language": "python",
   "name": "networks"
  },
  "language_info": {
   "codemirror_mode": {
    "name": "ipython",
    "version": 3
   },
   "file_extension": ".py",
   "mimetype": "text/x-python",
   "name": "python",
   "nbconvert_exporter": "python",
   "pygments_lexer": "ipython3",
   "version": "3.6.9"
  },
  "latex_envs": {
   "LaTeX_envs_menu_present": true,
   "autoclose": false,
   "autocomplete": true,
   "bibliofile": "biblio.bib",
   "cite_by": "apalike",
   "current_citInitial": 1,
   "eqLabelWithNumbers": true,
   "eqNumInitial": 1,
   "hotkeys": {
    "equation": "Ctrl-E",
    "itemize": "Ctrl-I"
   },
   "labels_anchors": false,
   "latex_user_defs": false,
   "report_style_numbering": false,
   "user_envs_cfg": false
  }
 },
 "nbformat": 4,
 "nbformat_minor": 2
}
